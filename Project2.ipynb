{
 "cells": [
  {
   "cell_type": "markdown",
   "metadata": {},
   "source": [
    "# Project 2"
   ]
  },
  {
   "cell_type": "markdown",
   "metadata": {},
   "source": [
    "The group project is split into 5 tasks. I've already finished the first one, which consists of creating some example pictures of cut out words manually. I've put these examplewords into the folder perpared_words and load them into the variable prepared_words_images so they can be used for the other tasks.\n",
    "\n",
    "All the tasks are built up in such a way, that nobody has to wait on the other people to finish their task. (Except for the last part of task 4)"
   ]
  },
  {
   "cell_type": "markdown",
   "metadata": {},
   "source": [
    "## Task 0: Creating and loading testimages\n",
    "Create some test images and load them here so they can be used for task 1 and 2"
   ]
  },
  {
   "cell_type": "code",
   "execution_count": 8,
   "metadata": {},
   "outputs": [
    {
     "data": {
      "image/png": "[encoded data removed]",
      "text/plain": [
       "<Figure size 432x288 with 3 Axes>"
      ]
     },
     "metadata": {
      "needs_background": "light"
     },
     "output_type": "display_data"
    }
   ],
   "source": [
    "import numpy as np\n",
    "import os\n",
    "\n",
    "from PIL import Image\n",
    "def load_images(data_root, image_paths, target_size):\n",
    "    images = []\n",
    "    for img_path in image_paths:\n",
    "        path = os.path.join(data_root, img_path)\n",
    "        img = Image.open(path)\n",
    "        img = img.convert('RGB')\n",
    "        img = img.resize(target_size)\n",
    "        images.append(np.array(img)) \n",
    "    return images\n",
    "\n",
    "prepared_words_dir = 'prepared_words'\n",
    "prepared_words_paths = os.listdir(prepared_words_dir)\n",
    "\n",
    "target_size = (100, 100)\n",
    "\n",
    "prepared_words_images = load_images(prepared_words_dir, prepared_words_paths, target_size)\n",
    "prepared_words_dataset = []\n",
    "%matplotlib inline\n",
    "import matplotlib.pyplot as plt\n",
    "for i in range(len(prepared_words_images)):\n",
    "    prepared_words_dataset.append((prepared_words_images[i], prepared_words_paths[i][:-4]))\n",
    "    plt.subplot(3, 1, i+1)\n",
    "    plt.imshow(prepared_words_dataset[i][0])\n",
    "    plt.title(prepared_words_dataset[i][1])\n",
    "    "
   ]
  },
  {
   "cell_type": "markdown",
   "metadata": {},
   "source": [
    "## Task 1: Dynamic Time Wrapping\n",
    "Create a method that calculates the distance between two word using Dynamic Time Wrapping. You can use the words in prepared_words_images for testing your method."
   ]
  },
  {
   "cell_type": "code",
   "execution_count": 9,
   "metadata": {},
   "outputs": [
    {
     "data": {
      "text/plain": [
       "(74.67122072587824,\n",
       " array([[113.59137291, 122.43773928, 134.08579343, ...,  77.03246069,\n",
       "          74.49832213,  70.9083916 ],\n",
       "        [ 86.15103017,  54.38749856,  52.24940191, ..., 138.11951347,\n",
       "         136.72234638, 134.79985163],\n",
       "        [154.18171098, 133.40164917, 131.13351974, ..., 188.07711185,\n",
       "         187.05346829, 185.65290194],\n",
       "        ...,\n",
       "        [178.89661819, 164.88177583, 163.58484037, ..., 208.02644063,\n",
       "         206.68091349, 209.13392838],\n",
       "        [177.79482557, 162.93250136, 161.48993777, ..., 206.54297374,\n",
       "         205.20233917, 207.22451592],\n",
       "        [180.65713382, 165.18171812, 165.52643293, ..., 211.53723077,\n",
       "         212.17445652, 213.75219297]]),\n",
       " array([[  113.59137291,   236.02911219,   370.11490562, ...,\n",
       "         15183.55607721, 15258.05439934, 15328.96279094],\n",
       "        [  199.74240309,   167.97887148,   220.22827339, ...,\n",
       "         13705.88202242, 13842.6043688 , 13977.40422044],\n",
       "        [  353.92411406,   301.38052064,   299.11239122, ...,\n",
       "         12937.59873888, 13124.65220717, 13310.30510911],\n",
       "        ...,\n",
       "        [16510.85577415, 14961.7747151 , 14912.19999153, ...,\n",
       "         14515.28961304, 14524.14110963, 14544.81754386],\n",
       "        [16688.65059972, 15124.70721646, 15073.68992929, ...,\n",
       "         14709.71838884, 14720.4919522 , 14731.36562556],\n",
       "        [16869.30773354, 15289.88893458, 15239.21636223, ...,\n",
       "         14914.55898491, 14921.89284536, 14934.24414518]]),\n",
       " (array([ 0,  1,  1,  1,  1,  1,  1,  2,  3,  4,  5,  6,  7,  8,  9, 10, 11,\n",
       "         12, 13, 14, 15, 16, 17, 18, 19, 20, 21, 22, 23, 24, 25, 26, 27, 28,\n",
       "         29, 30, 31, 32, 33, 34, 35, 36, 37, 38, 39, 40, 41, 42, 43, 44, 45,\n",
       "         46, 47, 48, 49, 50, 51, 52, 53, 54, 55, 56, 57, 58, 59, 60, 61, 62,\n",
       "         63, 64, 65, 66, 67, 68, 69, 70, 71, 72, 73, 74, 75, 76, 77, 78, 79,\n",
       "         80, 81, 82, 83, 84, 85, 86, 87, 88, 89, 90, 91, 92, 93, 94, 95, 96,\n",
       "         97, 98, 99]),\n",
       "  array([ 0,  1,  2,  3,  4,  5,  6,  7,  8,  9, 10, 11, 12, 13, 14, 15, 16,\n",
       "         17, 18, 19, 20, 21, 22, 23, 24, 25, 26, 27, 28, 29, 30, 31, 32, 33,\n",
       "         34, 35, 36, 37, 38, 39, 40, 41, 42, 43, 44, 45, 46, 47, 48, 49, 50,\n",
       "         51, 52, 53, 54, 55, 56, 57, 58, 59, 60, 61, 62, 63, 64, 65, 66, 67,\n",
       "         68, 69, 70, 71, 72, 73, 74, 75, 76, 77, 78, 79, 80, 81, 82, 83, 83,\n",
       "         84, 84, 85, 85, 86, 87, 88, 88, 88, 89, 90, 91, 92, 93, 94, 95, 96,\n",
       "         97, 98, 99])))"
      ]
     },
     "execution_count": 9,
     "metadata": {},
     "output_type": "execute_result"
    }
   ],
   "source": [
    "import random\n",
    "from dtw import dtw\n",
    "import numpy\n",
    "import cv2 \n",
    "import matplotlib.pyplot as plt\n",
    "\n",
    "euclidean = lambda img1, img2 : numpy.sqrt(numpy.sum((img1-img2)**2))\n",
    "\n",
    "def dynamic_time_wrapping(img1, img2):\n",
    "    \n",
    "    dist, cost, acc_cost, path = dtw(img1, img2, dist=euclidean)\n",
    "    return dist, cost, acc_cost, path\n",
    "\n",
    "\n",
    "img1 = prepared_words_images[0]\n",
    "img2 = prepared_words_images[1]\n",
    "\n",
    "dynamic_time_wrapping(prepared_words_images[0],prepared_words_images[1])"
   ]
  },
  {
   "cell_type": "markdown",
   "metadata": {},
   "source": [
    "## Task 2: Train and Apply\n",
    "Write a Class that can be fed multiple pictures. It should then be able to classify a new picture using the dynamicTimeWrapping method above. You can already use the current dynamicTimeWrapping function (which currently just returns random results).\n",
    "You can use the words in prepared_words_images for testing your class."
   ]
  },
  {
   "cell_type": "code",
   "execution_count": 10,
   "metadata": {},
   "outputs": [],
   "source": [
    "class WordClassifier:\n",
    "    def __init__(self):\n",
    "        print(\"initialized classifier\")\n",
    "        self.words_arr = []\n",
    "        self.words_scores = {}\n",
    "                \n",
    "    def train(self, words):\n",
    "        # Todo: save the words.\n",
    "        print('training the model')\n",
    "        # normalize the model and save to the array\n",
    "        for i in range(len(words)):\n",
    "            new_word = cv2.resize(words[i][1], dsize=target_size, interpolation=cv2.INTER_CUBIC)\n",
    "            self.words_arr.append((words[i][0] ,new_word))\n",
    "        print('Size of a train array {}'.format(len(self.words_arr)))\n",
    "        \n",
    "    def classify(self, word):\n",
    "        # Classify a word\n",
    "        print('classifying a word')\n",
    "        for i in range(len(self.words_arr)):\n",
    "            resized_word = cv2.resize(word, dsize=target_size, interpolation=cv2.INTER_CUBIC)\n",
    "            word_from_arr = self.words_arr[i][1]\n",
    "            min_dist, cost_mtx, acc_cost_matx, warp_path = dynamic_time_wrapping(word_from_arr, resized_word)\n",
    "            self.words_scores[self.words_arr[i][0]] = min_dist\n",
    "#             print(self.words_scores)\n",
    "            \n",
    "        sorted_res = sorted(self.words_scores.items(), key=lambda kv: kv[1])\n",
    "        \n",
    "        minimal_score = min(self.words_scores, key=self.words_scores.get) # this computes the minimal word in the list\n",
    "        return sorted_res"
   ]
  },
  {
   "cell_type": "markdown",
   "metadata": {},
   "source": [
    "## Task 3: Split up the jpg pages into individual pictures of words\n",
    "Write an algorithm that turns a given page in the images folder into pictures of individual words using the svg file from the ground-truth folder. Currently it just returns the words from prepared_words_images so the people from the other tasks can already use it."
   ]
  },
  {
   "cell_type": "code",
   "execution_count": 11,
   "metadata": {},
   "outputs": [],
   "source": [
    "%matplotlib inline\n",
    "import re\n",
    "import matplotlib.pyplot as plt\n",
    "import numpy as np\n",
    "from PIL import Image\n",
    "import cv2 # library needs to be installed first: conda install -c conda-forge opencv\n",
    "\n",
    "# Take a page number as input\n",
    "# Return an array with the corresponding Id as the first element \n",
    "# and the cropped image(word with white background) as numpy array as the second argument\n",
    "# e.g. [['70-01-01', array([[255, 255, 255, ..., 207, 207, 206],\n",
    "#                           [255, 255, 255, ..., 208, 208, 255],\n",
    "#                           [255, 255, 255, ..., 207, 208, 255],\n",
    "#                           ...,\n",
    "#                           [255, 255, 255, ..., 255, 255, 255],\n",
    "#                           [255, 255, 255, ..., 255, 255, 255],\n",
    "#                           [255, 255, 255, ..., 255, 255, 255]], dtype=uint8)],\n",
    "#       ... ]\n",
    "def loadWordsFromPage(page_number):\n",
    "    path_ground_truth = \"ground-truth/locations/\" + str(page_number) + \".svg\"\n",
    "    path_image = \"images/\" + str(page_number) + \".jpg\"\n",
    "    \n",
    "    allCoordinates = []\n",
    "    \n",
    "    with open(path_ground_truth, \"r\") as paths:\n",
    "        for line in paths :\n",
    "            coordinates = []\n",
    "            if \"path\" in line :\n",
    "                startIndexCoordinate = line.find(\"M\") + 1\n",
    "                endIndexCoordinate = line.find(\"Z\")\n",
    "\n",
    "                startIndexId = line.find(\"id=\") + 5\n",
    "                endIndexId = startIndexId + 8\n",
    "\n",
    "                substringCoordinates = line[startIndexCoordinate: endIndexCoordinate]\n",
    "                coordinateStrings = re.findall(\"\\d+\\.\\d+\", substringCoordinates)\n",
    "\n",
    "                substringId = line[startIndexId: endIndexId]\n",
    "\n",
    "                index = 0\n",
    "                for i in range(int(len(coordinateStrings)/2)):\n",
    "                    coordinates.append([float(coordinateStrings[index]), float(coordinateStrings[index+1])])\n",
    "                    index += 2   \n",
    "                allCoordinates.append([substringId, coordinates])  \n",
    "    \n",
    "    prepared_words_images = []\n",
    "    \n",
    "    img = Image.open(path_image)\n",
    "    # that's my comment\n",
    "#     img = img.convert('RGB')\n",
    "    img = np.array(img)\n",
    "    \n",
    "    for wordCoordinates in allCoordinates:\n",
    "        clone = img.copy() \n",
    "\n",
    "        contours = [np.array(wordCoordinates[1], dtype=np.int32)]\n",
    "        mask = np.ones_like(clone)*255\n",
    "        cv2.drawContours(mask,contours,0,0,-1)\n",
    "        out = np.ones_like(clone)*255\n",
    "        out[mask == 0] = clone[mask == 0]\n",
    "        \n",
    "        (x, y) = np.where(mask == 0)\n",
    "        (topx, topy) = (np.min(x), np.min(y))\n",
    "        (bottomx, bottomy) = (np.max(x), np.max(y))\n",
    "        out = out[topx:bottomx+1, topy:bottomy+1]\n",
    "        prepared_words_images.append([wordCoordinates[0], out])\n",
    "\n",
    "    return prepared_words_images"
   ]
  },
  {
   "cell_type": "code",
   "execution_count": 12,
   "metadata": {},
   "outputs": [],
   "source": [
    "prepared_words = loadWordsFromPage(270)"
   ]
  },
  {
   "cell_type": "code",
   "execution_count": 13,
   "metadata": {},
   "outputs": [
    {
     "name": "stdout",
     "output_type": "stream",
     "text": [
      "(91, 188)\n",
      "<class 'numpy.ndarray'>\n",
      "(106, 274)\n",
      "<class 'numpy.ndarray'>\n",
      "(96, 278)\n",
      "<class 'numpy.ndarray'>\n",
      "(83, 255)\n",
      "<class 'numpy.ndarray'>\n",
      "(88, 574)\n",
      "<class 'numpy.ndarray'>\n"
     ]
    },
    {
     "data": {
      "image/png": "[encoded data removed]",
      "text/plain": [
       "<Figure size 432x288 with 5 Axes>"
      ]
     },
     "metadata": {
      "needs_background": "light"
     },
     "output_type": "display_data"
    }
   ],
   "source": [
    "for i in range(5):\n",
    "    print(prepared_words[i][1].shape)\n",
    "    print(type(prepared_words[i][1]))\n",
    "    plt.subplot(5,2,i+1)\n",
    "    plt.imshow(prepared_words[i][1])"
   ]
  },
  {
   "cell_type": "code",
   "execution_count": 14,
   "metadata": {},
   "outputs": [
    {
     "name": "stdout",
     "output_type": "stream",
     "text": [
      "initialized classifier\n",
      "training the model\n",
      "Size of a train array 221\n",
      "classifying a word\n",
      "('70-01-06', 0.0)\n"
     ]
    }
   ],
   "source": [
    "dynamic_time_wrapping(prepared_words[0][1],prepared_words[0][1])\n",
    "\n",
    "from skimage import data\n",
    "from skimage.color import rgb2gray\n",
    "# print(prepared_words_dataset[1][0])\n",
    "\n",
    "classifier = WordClassifier()\n",
    "classifier.train(prepared_words)\n",
    "\n",
    "# this works\n",
    "results = classifier.classify(prepared_words[5][1])\n",
    "print(results[0])"
   ]
  },
  {
   "cell_type": "markdown",
   "metadata": {},
   "source": [
    "## Task 4:  Combine all above tasks\n",
    "Use the class and methods above to train and apply our classifier. Maybe write something about accuracy and stuff once the other people have finished their part. Check the exercise hour pdf and https://github.com/lunactic/PatRec17_KWS_Data for more info."
   ]
  },
  {
   "cell_type": "code",
   "execution_count": 2,
   "metadata": {},
   "outputs": [
    {
     "name": "stdout",
     "output_type": "stream",
     "text": [
      "270\n"
     ]
    },
    {
     "ename": "NameError",
     "evalue": "name 'loadWordsFromPage' is not defined",
     "output_type": "error",
     "traceback": [
      "\u001b[0;31m---------------------------------------------------------------------------\u001b[0m",
      "\u001b[0;31mNameError\u001b[0m                                 Traceback (most recent call last)",
      "\u001b[0;32m<ipython-input-2-f7496f36901b>\u001b[0m in \u001b[0;36m<module>\u001b[0;34m\u001b[0m\n\u001b[1;32m     20\u001b[0m     \u001b[0mpagenum\u001b[0m \u001b[0;34m=\u001b[0m \u001b[0;34m(\u001b[0m\u001b[0mint\u001b[0m\u001b[0;34m)\u001b[0m\u001b[0;34m(\u001b[0m\u001b[0mtrain_pages\u001b[0m\u001b[0;34m[\u001b[0m\u001b[0mi\u001b[0m\u001b[0;34m]\u001b[0m\u001b[0;34m)\u001b[0m\u001b[0;34m\u001b[0m\u001b[0;34m\u001b[0m\u001b[0m\n\u001b[1;32m     21\u001b[0m     \u001b[0mprint\u001b[0m\u001b[0;34m(\u001b[0m\u001b[0mpagenum\u001b[0m\u001b[0;34m)\u001b[0m\u001b[0;34m\u001b[0m\u001b[0;34m\u001b[0m\u001b[0m\n\u001b[0;32m---> 22\u001b[0;31m     \u001b[0mtrain_images\u001b[0m\u001b[0;34m.\u001b[0m\u001b[0mappend\u001b[0m\u001b[0;34m(\u001b[0m\u001b[0mloadWordsFromPage\u001b[0m\u001b[0;34m(\u001b[0m\u001b[0mpagenum\u001b[0m\u001b[0;34m)\u001b[0m\u001b[0;34m)\u001b[0m\u001b[0;34m\u001b[0m\u001b[0;34m\u001b[0m\u001b[0m\n\u001b[0m\u001b[1;32m     23\u001b[0m \u001b[0;34m\u001b[0m\u001b[0m\n\u001b[1;32m     24\u001b[0m \u001b[0;31m# for i in range(len(val_pages)):\u001b[0m\u001b[0;34m\u001b[0m\u001b[0;34m\u001b[0m\u001b[0;34m\u001b[0m\u001b[0m\n",
      "\u001b[0;31mNameError\u001b[0m: name 'loadWordsFromPage' is not defined"
     ]
    }
   ],
   "source": [
    "# read the page numbers in a directory and add it to an array\n",
    "def read_pages_numbers(directory):\n",
    "    import string\n",
    "    f = open(directory, 'r')\n",
    "    x = f.readlines()\n",
    "    pages = [w.replace('\\n', '') for w in x] # replace trailing sign of new line end of the string\n",
    "    f.close()\n",
    "    return pages\n",
    "\n",
    "train_pages = read_pages_numbers('task/train.txt')\n",
    "val_pages = read_pages_numbers('task/valid.txt')\n",
    "\n",
    "train_images = []\n",
    "val_images = []\n",
    "\n",
    "for i in range(len(train_pages)):\n",
    "    pagenum = (int)(train_pages[i])\n",
    "    print('Loading images from page', pagenum)\n",
    "    train_images.append(loadWordsFromPage(pagenum))\n",
    "\n",
    "for i in range(len(val_pages)):\n",
    "    pagenum = (int)(val_pages[i])\n",
    "    print('Loading images from page', pagenum)\n",
    "    val_images.append(loadWordsFromPage(pagenum))\n",
    "    \n",
    "    \n",
    "print(len(train_images))\n",
    "print(len(val_images))"
   ]
  },
  {
   "cell_type": "code",
   "execution_count": 1,
   "metadata": {},
   "outputs": [
    {
     "name": "stdout",
     "output_type": "stream",
     "text": [
      "123\n"
     ]
    }
   ],
   "source": [
    "# using the image on the training set try to find image on the validation set\n",
    "print(123)\n",
    "# count how many images are similar (possibly use several values from the sorted array)"
   ]
  },
  {
   "cell_type": "code",
   "execution_count": null,
   "metadata": {},
   "outputs": [],
   "source": []
  }
 ],
 "metadata": {
  "kernelspec": {
   "display_name": "Python 3",
   "language": "python",
   "name": "python3"
  },
  "language_info": {
   "codemirror_mode": {
    "name": "ipython",
    "version": 3
   },
   "file_extension": ".py",
   "mimetype": "text/x-python",
   "name": "python",
   "nbconvert_exporter": "python",
   "pygments_lexer": "ipython3",
   "version": "3.7.1"
  }
 },
 "nbformat": 4,
 "nbformat_minor": 2
}
