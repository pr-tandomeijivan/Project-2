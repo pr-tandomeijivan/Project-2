{
 "cells": [
  {
   "cell_type": "markdown",
   "metadata": {},
   "source": [
    "# Project 2"
   ]
  },
  {
   "cell_type": "markdown",
   "metadata": {},
   "source": [
    "The group project is split into 5 tasks. I've already finished the first one, which consists of creating some example pictures of cut out words manually. I've put these examplewords into the folder perpared_words and load them into the variable prepared_words_images so they can be used for the other tasks.\n",
    "\n",
    "All the tasks are built up in such a way, that nobody has to wait on the other people to finish their task. (Except for the last part of task 4)"
   ]
  },
  {
   "cell_type": "markdown",
   "metadata": {},
   "source": [
    "## Task 0: Creating and loading testimages\n",
    "Create some test images and load them here so they can be used for task 1 and 2"
   ]
  },
  {
   "cell_type": "code",
   "execution_count": 35,
   "metadata": {},
   "outputs": [
    {
     "data": {
      "image/png": "[encoded data removed]",
      "text/plain": [
       "<Figure size 432x288 with 3 Axes>"
      ]
     },
     "metadata": {
      "needs_background": "light"
     },
     "output_type": "display_data"
    }
   ],
   "source": [
    "import numpy as np\n",
    "import os\n",
    "\n",
    "from PIL import Image\n",
    "def load_images(data_root, image_paths, target_size):\n",
    "    images = []\n",
    "    for img_path in image_paths:\n",
    "        path = os.path.join(data_root, img_path)\n",
    "        img = Image.open(path)\n",
    "        img = img.convert('RGB')\n",
    "        img = img.resize(target_size)\n",
    "        images.append(np.array(img)) \n",
    "    return images\n",
    "\n",
    "prepared_words_dir = 'prepared_words'\n",
    "prepared_words_paths = os.listdir(prepared_words_dir)\n",
    "\n",
    "target_size = (100, 100)\n",
    "\n",
    "prepared_words_images = load_images(prepared_words_dir, prepared_words_paths, target_size)\n",
    "%matplotlib inline\n",
    "import matplotlib.pyplot as plt\n",
    "for i in range(len(prepared_words_images)):\n",
    "    plt.subplot(3, 1, i+1)\n",
    "    plt.imshow(prepared_words_images[i])"
   ]
  },
  {
   "cell_type": "markdown",
   "metadata": {},
   "source": [
    "## Task 1: Dynamic Time Wrapping\n",
    "Create a method that calculates the distance between two word using Dynamic Time Wrapping. You can use the words in prepared_words_images for testing your method."
   ]
  },
  {
   "cell_type": "code",
   "execution_count": 36,
   "metadata": {},
   "outputs": [],
   "source": [
    "import random\n",
    "\n",
    "def dynamicTimeWrapping(img1, img2):\n",
    "    return random.randint(1,101)"
   ]
  },
  {
   "cell_type": "markdown",
   "metadata": {},
   "source": [
    "## Task 2: Train and Apply\n",
    "Write a Class that can be fed multiple pictures. It should then be able to classify a new picture using the dynamicTimeWrapping method above. You can already use the current dynamicTimeWrapping function (which currently just returns random results).\n",
    "You can use the words in prepared_words_images for testing your class."
   ]
  },
  {
   "cell_type": "code",
   "execution_count": 43,
   "metadata": {},
   "outputs": [],
   "source": [
    "class WordClassifier:\n",
    "    def train(words):\n",
    "        # Todo: safe the words. Sync up with with\n",
    "        print('training the model')\n",
    "    def classify(word):\n",
    "        # Classify a word\n",
    "        return 'a_word'"
   ]
  },
  {
   "cell_type": "markdown",
   "metadata": {},
   "source": [
    "## Task 3: Split up the jpg pages into individual pictures of words\n",
    "Write an algorithm that turns a given page in the images folder into pictures of individual words using the svg file from the ground-truth folder. Currently it just returns the words from prepared_words_images so the people from the other tasks can already use it."
   ]
  },
  {
   "cell_type": "code",
   "execution_count": 41,
   "metadata": {},
   "outputs": [],
   "source": [
    "def loadWordsFromPage(page):\n",
    "    return prepared_words_images"
   ]
  },
  {
   "cell_type": "markdown",
   "metadata": {},
   "source": [
    "## Task 4:  Combine all above tasks\n",
    "Use the class and methods above to train and apply our classifier. Maybe write something about accuracy and stuff once the other people have finished their part. Check the exercise hour pdf and https://github.com/lunactic/PatRec17_KWS_Data for more info."
   ]
  },
  {
   "cell_type": "code",
   "execution_count": null,
   "metadata": {},
   "outputs": [],
   "source": [
    " "
   ]
  }
 ],
 "metadata": {
  "kernelspec": {
   "display_name": "Python 2",
   "language": "python",
   "name": "python2"
  },
  "language_info": {
   "codemirror_mode": {
    "name": "ipython",
    "version": 2
   },
   "file_extension": ".py",
   "mimetype": "text/x-python",
   "name": "python",
   "nbconvert_exporter": "python",
   "pygments_lexer": "ipython2",
   "version": "2.7.16"
  }
 },
 "nbformat": 4,
 "nbformat_minor": 2
}
