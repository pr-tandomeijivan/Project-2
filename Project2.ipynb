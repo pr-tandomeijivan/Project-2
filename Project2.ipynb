{
 "cells": [
  {
   "cell_type": "markdown",
   "metadata": {},
   "source": [
    "# Project 2"
   ]
  },
  {
   "cell_type": "markdown",
   "metadata": {},
   "source": [
    "The group project is split into 5 tasks. I've already finished the first one, which consists of creating some example pictures of cut out words manually. I've put these examplewords into the folder perpared_words and load them into the variable prepared_words_images so they can be used for the other tasks.\n",
    "\n",
    "All the tasks are built up in such a way, that nobody has to wait on the other people to finish their task. (Except for the last part of task 4)"
   ]
  },
  {
   "cell_type": "markdown",
   "metadata": {},
   "source": [
    "## Task 0: Creating and loading testimages\n",
    "Create some test images and load them here so they can be used for task 1 and 2"
   ]
  },
  {
   "cell_type": "code",
   "execution_count": 45,
   "metadata": {},
   "outputs": [
    {
     "data": {
      "image/png": "[encoded data removed]",
      "text/plain": [
       "<Figure size 432x288 with 3 Axes>"
      ]
     },
     "metadata": {
      "needs_background": "light"
     },
     "output_type": "display_data"
    }
   ],
   "source": [
    "import numpy as np\n",
    "import os\n",
    "\n",
    "from PIL import Image\n",
    "def load_images(data_root, image_paths, target_size):\n",
    "    images = []\n",
    "    for img_path in image_paths:\n",
    "        path = os.path.join(data_root, img_path)\n",
    "        img = Image.open(path)\n",
    "        img = img.convert('RGB')\n",
    "        img = img.resize(target_size)\n",
    "        images.append(np.array(img)) \n",
    "    return images\n",
    "\n",
    "prepared_words_dir = 'prepared_words'\n",
    "prepared_words_paths = os.listdir(prepared_words_dir)\n",
    "\n",
    "target_size = (100, 100)\n",
    "\n",
    "prepared_words_images = load_images(prepared_words_dir, prepared_words_paths, target_size)\n",
    "prepared_words_dataset = []\n",
    "%matplotlib inline\n",
    "import matplotlib.pyplot as plt\n",
    "for i in range(len(prepared_words_images)):\n",
    "    prepared_words_dataset.append((prepared_words_images[i], prepared_words_paths[i][:-4]))\n",
    "    plt.subplot(3, 1, i+1)\n",
    "    plt.imshow(prepared_words_dataset[i][0])\n",
    "    plt.title(prepared_words_dataset[i][1])\n",
    "    "
   ]
  },
  {
   "cell_type": "markdown",
   "metadata": {},
   "source": [
    "## Task 1: Dynamic Time Warping\n",
    "Create a method that calculates the distance between two words using Dynamic Time Wrapping. You can use the words in prepared_words_images for testing your method."
   ]
  },
  {
   "cell_type": "code",
   "execution_count": 46,
   "metadata": {},
   "outputs": [
    {
     "data": {
      "text/plain": [
       "(69.37970306836856,\n",
       " array([[116.71760793, 152.06577524, 168.65052624, ..., 146.40696705,\n",
       "         141.52031656, 143.46776641],\n",
       "        [124.45481108, 150.83766108, 163.97865715, ..., 151.02648774,\n",
       "         146.29422408, 148.17894587],\n",
       "        [130.13454576, 152.24322645, 165.21803776, ..., 157.93986197,\n",
       "         153.42098944, 155.21919984],\n",
       "        ...,\n",
       "        [ 68.71681017, 124.18937153, 146.02739469, ...,  79.67433715,\n",
       "          70.29224708,  74.13501197],\n",
       "        [ 65.8634952 , 122.63360062, 144.70659971, ...,  77.22693831,\n",
       "          67.50555533,  71.49825173],\n",
       "        [ 61.77378085, 120.48651377, 142.89156728, ...,  73.76991257,\n",
       "          63.52164985,  67.74953874]]),\n",
       " array([[  116.71760793,   268.78338317,   437.43390941, ...,\n",
       "         16781.09251604, 16922.61283261, 17066.08059902],\n",
       "        [  241.172419  ,   267.55526901,   431.53392615, ...,\n",
       "         15788.31183622, 15934.60606031, 16082.78500618],\n",
       "        [  371.30696476,   393.41564545,   432.77330676, ...,\n",
       "         15795.22521045, 15941.73282566, 16089.82526015],\n",
       "        ...,\n",
       "        [13893.95796939, 13623.70391988, 13645.54194304, ...,\n",
       "         13740.6855196 , 13807.06124318, 13819.47709874],\n",
       "        [13959.82146459, 13746.33752049, 13768.41051959, ...,\n",
       "         13811.10468037, 13808.19107493, 13878.55949491],\n",
       "        [14021.59524543, 13866.82403426, 13889.22908777, ...,\n",
       "         13878.7957291 , 13871.71272478, 13875.94061367]]),\n",
       " (array([ 0,  1,  2,  3,  4,  5,  6,  7,  8,  9, 10, 11, 12, 13, 14, 15, 16,\n",
       "         17, 18, 19, 20, 21, 22, 23, 24, 25, 26, 27, 28, 29, 30, 31, 32, 33,\n",
       "         34, 35, 36, 37, 38, 39, 40, 41, 42, 43, 44, 45, 46, 47, 48, 49, 50,\n",
       "         51, 52, 53, 54, 55, 56, 57, 58, 59, 60, 61, 62, 63, 64, 65, 66, 67,\n",
       "         68, 69, 70, 71, 72, 73, 74, 75, 76, 77, 78, 79, 80, 81, 82, 83, 84,\n",
       "         85, 86, 87, 88, 89, 90, 91, 92, 93, 94, 95, 96, 97, 98, 99]),\n",
       "  array([ 0,  1,  2,  3,  4,  5,  6,  7,  8,  9, 10, 11, 12, 13, 14, 15, 16,\n",
       "         17, 18, 19, 20, 21, 22, 23, 24, 25, 26, 27, 28, 29, 30, 31, 32, 33,\n",
       "         34, 35, 36, 37, 38, 39, 40, 41, 42, 43, 44, 45, 46, 47, 48, 49, 50,\n",
       "         51, 52, 53, 54, 55, 56, 57, 58, 59, 60, 61, 62, 63, 64, 65, 66, 67,\n",
       "         68, 69, 70, 71, 72, 73, 74, 75, 76, 77, 78, 79, 80, 81, 82, 83, 84,\n",
       "         85, 86, 87, 88, 89, 90, 91, 92, 93, 94, 95, 96, 97, 98, 99])))"
      ]
     },
     "execution_count": 46,
     "metadata": {},
     "output_type": "execute_result"
    }
   ],
   "source": [
    "import random\n",
    "from dtw import dtw\n",
    "import numpy\n",
    "import cv2 \n",
    "import matplotlib.pyplot as plt\n",
    "\n",
    "euclidean = lambda img1, img2 : numpy.sqrt(numpy.sum((img1-img2)**2))\n",
    "\n",
    "def dynamic_time_wrapping(img1, img2):\n",
    "    \n",
    "    dist, cost, acc_cost, path = dtw(img1, img2, dist=euclidean)\n",
    "    return dist, cost, acc_cost, path\n",
    "\n",
    "\n",
    "img1 = prepared_words_images[0]\n",
    "img2 = prepared_words_images[1]\n",
    "\n",
    "dynamic_time_wrapping(prepared_words_images[0],prepared_words_images[1])"
   ]
  },
  {
   "cell_type": "markdown",
   "metadata": {},
   "source": [
    "## Task 2: Train and Apply\n",
    "Write a Class that can be fed multiple pictures. It should then be able to classify a new picture using the dynamicTimeWrapping method above. You can already use the current dynamicTimeWrapping function (which currently just returns random results).\n",
    "You can use the words in prepared_words_images for testing your class."
   ]
  },
  {
   "cell_type": "code",
   "execution_count": 47,
   "metadata": {},
   "outputs": [],
   "source": [
    "class WordClassifier:\n",
    "    def __init__(self):\n",
    "        print(\"initialized classifier\")\n",
    "        self.words_arr = []\n",
    "                \n",
    "    def train(self, words):\n",
    "        print('training the model')\n",
    "        # normalize the model and save to the array\n",
    "        for i in range(len(words)):\n",
    "            new_word = cv2.resize(words[i][1], dsize=target_size, interpolation=cv2.INTER_CUBIC)\n",
    "            self.words_arr.append((words[i][0], new_word, words[i][2]))\n",
    "        print('Size of a train array {}'.format(len(self.words_arr)))\n",
    "        \n",
    "    # should return the label of the c\n",
    "    def classify(self, word):\n",
    "        words_scores = {}\n",
    "        # Classify a word\n",
    "        print('classifying a word')\n",
    "        for i in range(len(self.words_arr)):\n",
    "            resized_word = cv2.resize(word, dsize=target_size, interpolation=cv2.INTER_CUBIC)\n",
    "            word_from_arr = self.words_arr[i][1]\n",
    "            min_dist, cost_mtx, acc_cost_matx, warp_path = dynamic_time_wrapping(word_from_arr, resized_word)\n",
    "            words_scores[(self.words_arr[i][0], self.words_arr[i][2])] = min_dist\n",
    "            \n",
    "        sorted_res = sorted(words_scores.items(), key=lambda kv: kv[1])\n",
    "        \n",
    "        # this computes the minimal word in the list\n",
    "        minimal_word_id = min(words_scores, key=words_scores.get) \n",
    "        return minimal_word_id, sorted_res"
   ]
  },
  {
   "cell_type": "markdown",
   "metadata": {},
   "source": [
    "## Task 3: Split up the jpg pages into individual pictures of words\n",
    "Write an algorithm that turns a given page in the images folder into pictures of individual words using the svg file from the ground-truth folder. Currently it just returns the words from prepared_words_images so the people from the other tasks can already use it."
   ]
  },
  {
   "cell_type": "code",
   "execution_count": 74,
   "metadata": {},
   "outputs": [],
   "source": [
    "%matplotlib inline\n",
    "import re\n",
    "import matplotlib.pyplot as plt\n",
    "import numpy as np\n",
    "from PIL import Image\n",
    "import cv2 # library needs to be installed first: conda install -c conda-forge opencv\n",
    "\n",
    "# Take a page number as input\n",
    "# Return an array with the corresponding Id as the first argument \n",
    "# and the cropped image(word with white background) as numpy array as the second argument\n",
    "# e.g. [['70-01-01', array([[255, 255, 255, ..., 207, 207, 206],\n",
    "#                           [255, 255, 255, ..., 208, 208, 255],\n",
    "#                           [255, 255, 255, ..., 207, 208, 255],\n",
    "#                           ...,\n",
    "#                           [255, 255, 255, ..., 255, 255, 255],\n",
    "#                           [255, 255, 255, ..., 255, 255, 255],\n",
    "#                           [255, 255, 255, ..., 255, 255, 255]], dtype=uint8)],\n",
    "#       ... ]\n",
    "def loadWordsFromPage(page_number):\n",
    "    path_ground_truth = \"ground-truth/locations/\" + str(page_number) + \".svg\"\n",
    "    path_image = \"images/\" + str(page_number) + \".jpg\"\n",
    "    path_transcription = \"ground-truth/transcription.txt\"\n",
    "    keywords_path = 'task/keywords.txt'\n",
    "    \n",
    "    allCoordinates = []\n",
    "    \n",
    "    with open(path_ground_truth, \"r\") as paths:\n",
    "        for line in paths :\n",
    "            coordinates = []\n",
    "            if \"path\" in line :\n",
    "                startIndexCoordinate = line.find(\"M\") + 1\n",
    "                endIndexCoordinate = line.find(\"Z\")\n",
    "\n",
    "                startIndexId = line.find(\"id=\") + 4\n",
    "                endIndexId = startIndexId + 9\n",
    "\n",
    "                substringCoordinates = line[startIndexCoordinate: endIndexCoordinate]\n",
    "                coordinateStrings = re.findall(\"\\d+\\.\\d+\", substringCoordinates)\n",
    "\n",
    "                substringId = line[startIndexId: endIndexId]\n",
    "\n",
    "                index = 0\n",
    "                for i in range(int(len(coordinateStrings)/2)):\n",
    "                    coordinates.append([float(coordinateStrings[index]), float(coordinateStrings[index+1])])\n",
    "                    index += 2   \n",
    "                allCoordinates.append([substringId, coordinates])  \n",
    "    \n",
    "    transcriptions = {}\n",
    "    keywords = []\n",
    "    \n",
    "    with open(path_transcription, \"r\") as lines:\n",
    "        for line in lines :\n",
    "            transcriptions[line[0:9]] = line[10:len(line)-1]\n",
    "    \n",
    "    with open(path_transcription, \"r\") as lines:\n",
    "        for line in lines :\n",
    "            keywords.append(line[10:len(line)-1])\n",
    "    \n",
    "    \n",
    "    prepared_words_images = []\n",
    "    \n",
    "    img = Image.open(path_image)\n",
    "    # that's my comment\n",
    "#     img = img.convert('RGB')\n",
    "    img = np.array(img)\n",
    "    \n",
    "    for wordCoordinates in allCoordinates:\n",
    "        if(transcriptions[wordCoordinates[0]] in keywords):\n",
    "            clone = img.copy() \n",
    "\n",
    "            contours = [np.array(wordCoordinates[1], dtype=np.int32)]\n",
    "            mask = np.ones_like(clone)*255\n",
    "            cv2.drawContours(mask,contours,0,0,-1)\n",
    "            out = np.ones_like(clone)*255\n",
    "            out[mask == 0] = clone[mask == 0]\n",
    "\n",
    "            (x, y) = np.where(mask == 0)\n",
    "            (topx, topy) = (np.min(x), np.min(y))\n",
    "            (bottomx, bottomy) = (np.max(x), np.max(y))\n",
    "            out = out[topx:bottomx+1, topy:bottomy+1]\n",
    "            prepared_words_images.append([wordCoordinates[0], out, transcriptions[wordCoordinates[0]]])\n",
    "\n",
    "    return prepared_words_images"
   ]
  },
  {
   "cell_type": "code",
   "execution_count": 75,
   "metadata": {},
   "outputs": [],
   "source": [
    "prepared_words = loadWordsFromPage(270)"
   ]
  },
  {
   "cell_type": "code",
   "execution_count": 76,
   "metadata": {},
   "outputs": [
    {
     "name": "stdout",
     "output_type": "stream",
     "text": [
      "(91, 188)\n",
      "<class 'numpy.ndarray'>\n",
      "['270-01-01', array([[255, 255, 255, ..., 207, 207, 206],\n",
      "       [255, 255, 255, ..., 208, 208, 255],\n",
      "       [255, 255, 255, ..., 207, 208, 255],\n",
      "       ...,\n",
      "       [255, 255, 255, ..., 255, 255, 255],\n",
      "       [255, 255, 255, ..., 255, 255, 255],\n",
      "       [255, 255, 255, ..., 255, 255, 255]], dtype=uint8), 's_2-s_7-s_0-s_pt']\n",
      "(106, 274)\n",
      "<class 'numpy.ndarray'>\n",
      "['270-01-02', array([[255, 255, 255, ..., 255, 255, 255],\n",
      "       [255, 255, 255, ..., 255, 255, 255],\n",
      "       [255, 255, 255, ..., 255, 255, 255],\n",
      "       ...,\n",
      "       [255, 255, 255, ..., 255, 255, 255],\n",
      "       [255, 255, 255, ..., 255, 255, 255],\n",
      "       [255, 255, 255, ..., 255, 255, 255]], dtype=uint8), 'L-e-t-t-e-r-s-s_cm']\n",
      "(96, 278)\n",
      "<class 'numpy.ndarray'>\n",
      "['270-01-03', array([[255, 255, 210, ..., 217, 217, 217],\n",
      "       [255, 255, 210, ..., 218, 218, 217],\n",
      "       [255, 255, 210, ..., 218, 218, 218],\n",
      "       ...,\n",
      "       [255, 255, 255, ..., 255, 255, 255],\n",
      "       [255, 255, 255, ..., 255, 255, 255],\n",
      "       [255, 255, 255, ..., 255, 255, 255]], dtype=uint8), 'O-r-d-e-r-s']\n",
      "(83, 255)\n",
      "<class 'numpy.ndarray'>\n",
      "['270-01-04', array([[255, 255, 255, ..., 210, 210, 211],\n",
      "       [255, 255, 255, ..., 208, 208, 209],\n",
      "       [255, 255, 255, ..., 207, 208, 255],\n",
      "       ...,\n",
      "       [210, 209, 208, ..., 255, 255, 255],\n",
      "       [210, 210, 209, ..., 255, 255, 255],\n",
      "       [211, 211, 211, ..., 255, 255, 255]], dtype=uint8), 'a-n-d']\n",
      "(88, 574)\n",
      "<class 'numpy.ndarray'>\n",
      "['270-01-05', array([[255, 255, 255, ..., 255, 255, 255],\n",
      "       [255, 255, 255, ..., 255, 255, 255],\n",
      "       [255, 255, 255, ..., 255, 255, 255],\n",
      "       ...,\n",
      "       [255, 212, 212, ..., 209, 209, 209],\n",
      "       [211, 211, 211, ..., 255, 255, 255],\n",
      "       [211, 211, 211, ..., 255, 255, 255]], dtype=uint8), 'I-n-s-t-r-u-c-t-i-o-n-s-s_pt']\n"
     ]
    },
    {
     "data": {
      "image/png": "[encoded data removed]",
      "text/plain": [
       "<Figure size 432x288 with 5 Axes>"
      ]
     },
     "metadata": {
      "needs_background": "light"
     },
     "output_type": "display_data"
    }
   ],
   "source": [
    "for i in range(5):\n",
    "    print(prepared_words[i][1].shape)\n",
    "    print(type(prepared_words[i][1]))\n",
    "    plt.subplot(5,2,i+1)\n",
    "    plt.imshow(prepared_words[i][1])\n",
    "    print(prepared_words[i])"
   ]
  },
  {
   "cell_type": "code",
   "execution_count": 77,
   "metadata": {},
   "outputs": [
    {
     "name": "stdout",
     "output_type": "stream",
     "text": [
      "initialized classifier\n",
      "training the model\n",
      "Size of a train array 221\n",
      "classifying a word\n",
      "('270-01-06', 'O-c-t-o-b-e-r')\n"
     ]
    }
   ],
   "source": [
    "dynamic_time_wrapping(prepared_words[0][1],prepared_words[0][1])\n",
    "\n",
    "from skimage import data\n",
    "from skimage.color import rgb2gray\n",
    "# print(prepared_words_dataset[1][0])\n",
    "\n",
    "classifier = WordClassifier()\n",
    "classifier.train(prepared_words)\n",
    "\n",
    "# this works\n",
    "results = classifier.classify(prepared_words[5][1])\n",
    "print(results[0])"
   ]
  },
  {
   "cell_type": "markdown",
   "metadata": {},
   "source": [
    "## Task 4:  Combine all above tasks\n",
    "Use the class and methods above to train and apply our classifier. Maybe write something about accuracy and stuff once the other people have finished their part. Check the exercise hour pdf and https://github.com/lunactic/PatRec17_KWS_Data for more info."
   ]
  },
  {
   "cell_type": "code",
   "execution_count": null,
   "metadata": {
    "scrolled": true
   },
   "outputs": [
    {
     "name": "stdout",
     "output_type": "stream",
     "text": [
      "Loading images from page 270\n",
      "Loading images from page 271\n",
      "Loading images from page 272\n",
      "Loading images from page 273\n",
      "Loading images from page 274\n",
      "Loading images from page 275\n",
      "Loading images from page 276\n",
      "Loading images from page 277\n",
      "Loading images from page 278\n",
      "Loading images from page 279\n",
      "length is \n",
      "325\n",
      "---------------------------------------\n",
      "initialized classifier\n",
      "training the model\n",
      "Size of a train array 325\n",
      "Loading images from page 300\n",
      "Loading images from page 301\n",
      "Loading images from page 302\n",
      "Loading images from page 303\n",
      "Loading images from page 304\n",
      "length is \n",
      "70\n",
      "---------------------------------------\n",
      "classifying a word\n",
      "Was O-r-d-e-r-s but got e-s-c-o-r-t\n",
      "classifying a word\n",
      "Was I-n-s-t-r-u-c-t-i-o-n-s-s_pt but got I-n-s-t-r-u-c-t-i-o-n-s-s_pt\n",
      "classifying a word\n",
      "Was o-p-p-o-r-t-u-n-i-t-y but got m-e-n\n",
      "classifying a word\n",
      "Was c-a-r-e-f-u-l but got m-a-r-c-h\n",
      "classifying a word\n",
      "Was s_et-c-s_pt but got m-e-n\n",
      "classifying a word\n",
      "Was s_GW but got m-e-n\n",
      "classifying a word\n",
      "Was R-o-b-e-r-t but got m-e-n\n",
      "classifying a word\n",
      "Was J-o-h-n but got p-l-a-c-e\n",
      "classifying a word\n",
      "Was L-e-t-t-e-r-s but got I-n-s-t-r-u-c-t-i-o-n-s-s_pt\n",
      "classifying a word\n"
     ]
    }
   ],
   "source": [
    "import string\n",
    "train_path = 'task/train.txt'\n",
    "val_path = 'task/valid.txt'\n",
    "keywords_path = 'task/keywords.txt'\n",
    "keywords = read_pages_numbers(keywords_path)\n",
    "\n",
    "def read_pages_numbers(directory):\n",
    "    f = open(directory, 'r')\n",
    "    x = f.readlines()\n",
    "    pages = [w.replace('\\n', '') for w in x] # replace trailing sign of new line end of the string\n",
    "    f.close()\n",
    "    return pages\n",
    "\n",
    "\n",
    "# Given an input path this returns an array containing arrays of cropped words:\n",
    "# Cropped words:\n",
    "#     An array with the corresponding Id as the first argument \n",
    "#     and the cropped image(word with white background) as numpy array as the second argument\n",
    "def load_data(path):\n",
    "    pages = read_pages_numbers(path)\n",
    "    images = []\n",
    "    for i in range(len(pages)):\n",
    "        pagenum = (int)(pages[i])\n",
    "        print('Loading images from page', pagenum)\n",
    "        for word in loadWordsFromPage(pagenum):\n",
    "            if word[2] in keywords:\n",
    "                images.append(word)\n",
    "    print('length is ')\n",
    "    print(len(images))\n",
    "    print(\"---------------------------------------\")\n",
    "    return images\n",
    "\n",
    "    \n",
    "def train_a_classifier(path):\n",
    "    train_images = load_data(path)\n",
    "    classifier = WordClassifier()\n",
    "    classifier.train(train_images)\n",
    "    return classifier\n",
    "\n",
    "\n",
    "def classify_images(classifier, images):\n",
    "    results = []\n",
    "    # For all images in images find the label by taking the label of the word nearest to it (minimal word)\n",
    "    for image in images:\n",
    "        result = classifier.classify(image[1])\n",
    "        results.append(result)\n",
    "        print(\"Was \" + str(image[2]) + \" but got \" + str(result[0][1]))\n",
    "    # Then save the classification results for each image and return them\n",
    "    return results\n",
    "\n",
    "\n",
    "def calculate_accuracy():\n",
    "    return 0\n",
    "\n",
    "\n",
    "def main():\n",
    "    # train a word classifier with images given in the train directory\n",
    "    classifier = train_a_classifier(train_path)\n",
    "    # Get the predicted labels for given word images\n",
    "    train_images = load_data(val_path)\n",
    "    results = classify_images(classifier, train_images)\n",
    "    # Check against ground truth: Is the label taken the same as in the ground truth?\n",
    "    \n",
    "    # From the obtained results, calculate statistics\n",
    "    calculate_accuracy()\n",
    "    return 0\n",
    "\n",
    "   \n",
    "# get the label belonging to the word with a given key/ID\n",
    "def get_label(id):\n",
    "    return 0\n",
    "    \n",
    "main()\n"
   ]
  },
  {
   "cell_type": "code",
   "execution_count": null,
   "metadata": {},
   "outputs": [],
   "source": []
  }
 ],
 "metadata": {
  "kernelspec": {
   "display_name": "Python 3",
   "language": "python",
   "name": "python3"
  },
  "language_info": {
   "codemirror_mode": {
    "name": "ipython",
    "version": 3
   },
   "file_extension": ".py",
   "mimetype": "text/x-python",
   "name": "python",
   "nbconvert_exporter": "python",
   "pygments_lexer": "ipython3",
   "version": "3.7.3"
  }
 },
 "nbformat": 4,
 "nbformat_minor": 2
}
