{
 "cells": [
  {
   "cell_type": "code",
   "execution_count": 1,
   "metadata": {},
   "outputs": [],
   "source": [
    "import random\n",
    "from dtw import dtw\n",
    "import numpy\n",
    "import cv2 \n",
    "import matplotlib.pyplot as plt\n",
    "\n",
    "euclidean = lambda img1, img2 : numpy.sqrt(numpy.sum((img1-img2)**2))\n",
    "\n",
    "def dynamic_time_warping(img1, img2):\n",
    "    \n",
    "    img1 = img1 * 255.0/float(img1.max())\n",
    "    img2 = img2 * 255.0/float(img2.max())\n",
    "    dist, cost, acc_cost, path = dtw(img1, img2, dist=euclidean)\n",
    "    return dist"
   ]
  },
  {
   "cell_type": "code",
   "execution_count": 5,
   "metadata": {},
   "outputs": [],
   "source": [
    "import re\n",
    "import matplotlib.pyplot as plt\n",
    "import numpy as np\n",
    "from PIL import Image\n",
    "import cv2 # library needs to be installed first: conda install -c conda-forge opencv\n",
    "\n",
    "# Take a page number as input\n",
    "# Return an array with the corresponding Id as the first argument \n",
    "# and the cropped image(word with white background) as numpy array as the second argument\n",
    "# e.g. [['70-01-01', array([[255, 255, 255, ..., 207, 207, 206],\n",
    "#                           [255, 255, 255, ..., 208, 208, 255],\n",
    "#                           [255, 255, 255, ..., 207, 208, 255],\n",
    "#                           ...,\n",
    "#                           [255, 255, 255, ..., 255, 255, 255],\n",
    "#                           [255, 255, 255, ..., 255, 255, 255],\n",
    "#                           [255, 255, 255, ..., 255, 255, 255]], dtype=uint8)],\n",
    "#       ... ]\n",
    "def loadWordsFromTestPage(page_number):\n",
    "    path_ground_truth = \"ground-truth/locations/\" + str(page_number) + \".svg\"\n",
    "    path_image = \"images/\" + str(page_number) + \".jpg\"\n",
    "    \n",
    "    allCoordinates = []\n",
    "    \n",
    "    with open(path_ground_truth, \"r\") as paths:\n",
    "        for line in paths :\n",
    "            coordinates = []\n",
    "            if \"path\" in line :\n",
    "                startIndexCoordinate = line.find(\"M\") + 1\n",
    "                endIndexCoordinate = line.find(\"Z\")\n",
    "\n",
    "                startIndexId = line.find(\"id=\") + 4\n",
    "                endIndexId = startIndexId + 9\n",
    "\n",
    "                substringCoordinates = line[startIndexCoordinate: endIndexCoordinate]\n",
    "                coordinateStrings = re.findall(\"\\d+\\.\\d+\", substringCoordinates)\n",
    "\n",
    "                substringId = line[startIndexId: endIndexId]\n",
    "\n",
    "                index = 0\n",
    "                for i in range(int(len(coordinateStrings)/2)):\n",
    "                    coordinates.append([float(coordinateStrings[index]), float(coordinateStrings[index+1])])\n",
    "                    index += 2   \n",
    "                allCoordinates.append([substringId, coordinates]) \n",
    "                \n",
    "    prepared_words_images = []\n",
    "    \n",
    "    img = Image.open(path_image)\n",
    "    img = np.array(img)\n",
    "    \n",
    "    for wordCoordinates in allCoordinates:\n",
    "        clone = img.copy() \n",
    "\n",
    "        contours = [np.array(wordCoordinates[1], dtype=np.int32)]\n",
    "        mask = np.ones_like(clone)*255\n",
    "        cv2.drawContours(mask,contours,0,0,-1)\n",
    "        out = np.ones_like(clone)*255\n",
    "        out[mask == 0] = clone[mask == 0]\n",
    "\n",
    "        (x, y) = np.where(mask == 0)\n",
    "        (topx, topy) = (np.min(x), np.min(y))\n",
    "        (bottomx, bottomy) = (np.max(x), np.max(y))\n",
    "        out = out[topx:bottomx+1, topy:bottomy+1]\n",
    "        out[out>170] = 255\n",
    "        prepared_words_images.append([wordCoordinates[0], out])\n",
    "\n",
    "    return prepared_words_images\n",
    "    \n",
    "\n",
    "def load_train_word(splittedKeyword):\n",
    "    path = \"ground-truth/locations/\" + splittedKeyword[2] + \".svg\"\n",
    "    path_image = \"images/\" + splittedKeyword[2] + \".jpg\"\n",
    "    \n",
    "    allCoordinates = []\n",
    "    \n",
    "    with open(path, \"r\") as paths:\n",
    "        for line in paths :\n",
    "            coordinates = []\n",
    "            if \"path\" in line :\n",
    "                startIndexCoordinate = line.find(\"M\") + 1\n",
    "                endIndexCoordinate = line.find(\"Z\")\n",
    "\n",
    "                startIndexId = line.find(\"id=\") + 4\n",
    "                endIndexId = startIndexId + 9\n",
    "\n",
    "                substringCoordinates = line[startIndexCoordinate: endIndexCoordinate]\n",
    "                coordinateStrings = re.findall(\"\\d+\\.\\d+\", substringCoordinates)\n",
    "\n",
    "                substringId = line[startIndexId: endIndexId]\n",
    "                \n",
    "                if substringId == splittedKeyword[1]:\n",
    "                    index = 0\n",
    "                    for i in range(int(len(coordinateStrings)/2)):\n",
    "                        coordinates.append([float(coordinateStrings[index]), float(coordinateStrings[index+1])])\n",
    "                        index += 2   \n",
    "                    allCoordinates.append([substringId, coordinates, splittedKeyword[0]])  \n",
    "                    \n",
    "    prepared_words_images = []\n",
    "    \n",
    "    img = Image.open(path_image)\n",
    "    img = np.array(img)\n",
    "\n",
    "    for wordCoordinates in allCoordinates:\n",
    "        clone = img.copy() \n",
    "\n",
    "        contours = [np.array(wordCoordinates[1], dtype=np.int32)]\n",
    "        mask = np.ones_like(clone)*255\n",
    "        cv2.drawContours(mask,contours,0,0,-1)\n",
    "        out = np.ones_like(clone)*255\n",
    "        out[mask == 0] = clone[mask == 0]\n",
    "\n",
    "        (x, y) = np.where(mask == 0)\n",
    "        (topx, topy) = (np.min(x), np.min(y))\n",
    "        (bottomx, bottomy) = (np.max(x), np.max(y))\n",
    "        out = out[topx:bottomx+1, topy:bottomy+1]\n",
    "        out[out>170] = 255\n",
    "        prepared_words_images.append([wordCoordinates[0], out, wordCoordinates[2]])\n",
    "\n",
    "    return prepared_words_images\n",
    "    \n",
    "    "
   ]
  },
  {
   "cell_type": "code",
   "execution_count": 6,
   "metadata": {},
   "outputs": [],
   "source": [
    "import string\n",
    "test_path = 'task/test.txt'\n",
    "keywords_path = 'task/keywords.txt'\n",
    "\n",
    "def read_pages_numbers(directory):\n",
    "    f = open(directory, 'r')\n",
    "    x = f.readlines()\n",
    "    pages = [w.replace('\\n', '') for w in x] # replace trailing sign of new line end of the string\n",
    "    f.close()\n",
    "    return pages\n",
    "\n",
    "def read_keywords(path):\n",
    "    keywords = []\n",
    "    with open(path, 'r') as f:\n",
    "        for line in f:\n",
    "            split = line.split(',')\n",
    "            keywords.append([split[0], split[1].replace('\\n', ''), (split[1].split('-'))[0]])\n",
    "    return keywords        \n",
    "            \n",
    "\n",
    "def load_testdata(path_to_pagenumbers):\n",
    "    pages = read_pages_numbers(path_to_pagenumbers)\n",
    "    images = []\n",
    "    for i in range(len(pages)):\n",
    "        pagenum = (int)(pages[i])\n",
    "        print('Loading images from page', pagenum)\n",
    "        for word in loadWordsFromTestPage(pagenum):\n",
    "            images.append(word)\n",
    "    print('length is ' + str(len(images)))\n",
    "    print(\"---------------------------------------\")\n",
    "    return images\n",
    "\n",
    "def load_traindata(keywords_path):\n",
    "    keywords = read_keywords(keywords_path)\n",
    "    images = []\n",
    "    for keyword in keywords:\n",
    "        print('Loading images from page', keyword[2])\n",
    "        for word in load_train_word(keyword):\n",
    "            images.append(word)\n",
    "    print('length is ' + str(len(images)))\n",
    "    print(\"---------------------------------------\")\n",
    "    return images    "
   ]
  },
  {
   "cell_type": "code",
   "execution_count": 7,
   "metadata": {},
   "outputs": [
    {
     "name": "stdout",
     "output_type": "stream",
     "text": [
      "Loading images from page 271\n",
      "Loading images from page 271\n",
      "Loading images from page 272\n",
      "Loading images from page 300\n",
      "Loading images from page 271\n",
      "Loading images from page 271\n",
      "Loading images from page 273\n",
      "Loading images from page 273\n",
      "Loading images from page 274\n",
      "Loading images from page 276\n",
      "length is 10\n",
      "---------------------------------------\n"
     ]
    }
   ],
   "source": [
    "keyword_images = load_traindata(keywords_path)"
   ]
  },
  {
   "cell_type": "code",
   "execution_count": 9,
   "metadata": {},
   "outputs": [
    {
     "name": "stdout",
     "output_type": "stream",
     "text": [
      "Loading images from page 305\n",
      "Loading images from page 306\n",
      "Loading images from page 307\n",
      "Loading images from page 308\n",
      "Loading images from page 309\n",
      "length is 1167\n",
      "---------------------------------------\n"
     ]
    }
   ],
   "source": [
    "test_images = load_testdata(test_path)"
   ]
  },
  {
   "cell_type": "code",
   "execution_count": 10,
   "metadata": {},
   "outputs": [
    {
     "data": {
      "text/plain": [
       "<matplotlib.image.AxesImage at 0x21a00664898>"
      ]
     },
     "execution_count": 10,
     "metadata": {},
     "output_type": "execute_result"
    },
    {
     "data": {
      "image/png": "[encoded data removed]",
      "text/plain": [
       "<Figure size 432x288 with 1 Axes>"
      ]
     },
     "metadata": {
      "needs_background": "light"
     },
     "output_type": "display_data"
    }
   ],
   "source": [
    "plt.imshow(keyword_images[0][1])"
   ]
  },
  {
   "cell_type": "code",
   "execution_count": 17,
   "metadata": {},
   "outputs": [],
   "source": [
    "from sys import stdout\n",
    "\n",
    "def getDistance(keyword_images, test_images):\n",
    "    result = {}\n",
    "    for keyword_image in keyword_images:\n",
    "        img1 = cv2.resize(keyword_image[1], dsize=(100, 100), interpolation=cv2.INTER_CUBIC)\n",
    "        distances = []\n",
    "        i = 1\n",
    "        message = \"\"\n",
    "        for test_image in test_images:\n",
    "            stdout.write(\"\\r\")\n",
    "            last_message = message\n",
    "            message = \"Comparing \" + keyword_image[2] + \" with test word id \" + test_image[0] + \" (remaining: \" + str(len(test_images)-i) + \")\"\n",
    "            stdout.write('{message: <{fill}}'.format(message=message, fill=str(len(last_message))))\n",
    "            \n",
    "            img2 = cv2.resize(test_image[1], dsize=(100, 100), interpolation=cv2.INTER_CUBIC)\n",
    "            distance = dynamic_time_warping(img1, img2)\n",
    "            distances.append([test_image[0], distance])\n",
    "            \n",
    "            stdout.flush()\n",
    "            i += 1\n",
    "        distances.sort(key=lambda x: x[1])    \n",
    "        result[keyword_image[2]] = distances    \n",
    "    return result"
   ]
  },
  {
   "cell_type": "code",
   "execution_count": 28,
   "metadata": {},
   "outputs": [],
   "source": [
    "def saveResult(result):\n",
    "    with open('handwriting_results.txt', 'w+') as f:\n",
    "        for k, v in result.items():\n",
    "            f.write(str(k))\n",
    "            for value in v:\n",
    "                f.write(\", \" + str(value[0]) + \", \" + str(value[1]))\n",
    "            f.write(\"\\n\")    "
   ]
  },
  {
   "cell_type": "code",
   "execution_count": 19,
   "metadata": {},
   "outputs": [
    {
     "name": "stdout",
     "output_type": "stream",
     "text": [
      "Comparing R-e-c-r-u-i-t-s with test word id 309-36-02 (remaining: 0)   "
     ]
    }
   ],
   "source": [
    "result = getDistance(keyword_images, test_images)"
   ]
  },
  {
   "cell_type": "code",
   "execution_count": 30,
   "metadata": {},
   "outputs": [
    {
     "name": "stdout",
     "output_type": "stream",
     "text": [
      "1167\n",
      "1167\n",
      "1167\n",
      "1167\n",
      "1167\n",
      "1167\n",
      "1167\n",
      "1167\n",
      "1167\n",
      "1167\n"
     ]
    }
   ],
   "source": [
    "for k, v in result.items():\n",
    "    print(len(v))"
   ]
  },
  {
   "cell_type": "code",
   "execution_count": 29,
   "metadata": {},
   "outputs": [],
   "source": [
    "saveResult(result)"
   ]
  },
  {
   "cell_type": "code",
   "execution_count": null,
   "metadata": {},
   "outputs": [],
   "source": []
  }
 ],
 "metadata": {
  "kernelspec": {
   "display_name": "Python 3",
   "language": "python",
   "name": "python3"
  },
  "language_info": {
   "codemirror_mode": {
    "name": "ipython",
    "version": 3
   },
   "file_extension": ".py",
   "mimetype": "text/x-python",
   "name": "python",
   "nbconvert_exporter": "python",
   "pygments_lexer": "ipython3",
   "version": "3.7.1"
  }
 },
 "nbformat": 4,
 "nbformat_minor": 2
}
